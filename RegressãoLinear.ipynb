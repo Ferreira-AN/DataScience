{
 "cells": [
  {
   "cell_type": "markdown",
   "metadata": {},
   "source": [
    "# Machine Learning com Regressão Linear\n",
    "    Fórmula da regrassão Y = (a.x + b) onde a e b são váriaveis a descobrir"
   ]
  },
  {
   "cell_type": "code",
   "execution_count": 39,
   "metadata": {},
   "outputs": [],
   "source": [
    "import sqlite3 as sql\n",
    "import pandas as pd\n",
    "import numpy as np\n",
    "import math\n",
    "import matplotlib.pyplot as plt\n",
    "import seaborn as sns"
   ]
  },
  {
   "cell_type": "code",
   "execution_count": 12,
   "metadata": {},
   "outputs": [],
   "source": [
    "conexao = sql.connect(\"Banco de Dados\")\n",
    "cursor = conexao.cursor()"
   ]
  },
  {
   "cell_type": "code",
   "execution_count": 13,
   "metadata": {},
   "outputs": [
    {
     "ename": "OperationalError",
     "evalue": "table PR_Test already exists",
     "output_type": "error",
     "traceback": [
      "\u001b[1;31m---------------------------------------------------------------------------\u001b[0m",
      "\u001b[1;31mOperationalError\u001b[0m                          Traceback (most recent call last)",
      "\u001b[1;32m<ipython-input-13-6ca59bf6b918>\u001b[0m in \u001b[0;36m<module>\u001b[1;34m\u001b[0m\n\u001b[1;32m----> 1\u001b[1;33m \u001b[0mcursor\u001b[0m\u001b[1;33m.\u001b[0m\u001b[0mexecute\u001b[0m\u001b[1;33m(\u001b[0m\u001b[1;34m'CREATE TABLE PR_Test(Apartamento text, Metragem real, Preco real)'\u001b[0m\u001b[1;33m)\u001b[0m\u001b[1;33m\u001b[0m\u001b[1;33m\u001b[0m\u001b[0m\n\u001b[0m\u001b[0;32m      2\u001b[0m \u001b[1;33m\u001b[0m\u001b[0m\n\u001b[0;32m      3\u001b[0m \u001b[0mconexao\u001b[0m\u001b[1;33m.\u001b[0m\u001b[0mcommit\u001b[0m\u001b[1;33m(\u001b[0m\u001b[1;33m)\u001b[0m\u001b[1;33m\u001b[0m\u001b[1;33m\u001b[0m\u001b[0m\n",
      "\u001b[1;31mOperationalError\u001b[0m: table PR_Test already exists"
     ]
    }
   ],
   "source": [
    "cursor.execute('CREATE TABLE PR_Test(Apartamento text, Metragem real, Preco real)')\n",
    "\n",
    "conexao.commit()"
   ]
  },
  {
   "cell_type": "code",
   "execution_count": 14,
   "metadata": {},
   "outputs": [
    {
     "data": {
      "text/plain": [
       "<sqlite3.Cursor at 0x2169012f9d0>"
      ]
     },
     "execution_count": 14,
     "metadata": {},
     "output_type": "execute_result"
    }
   ],
   "source": [
    "cursor.execute(' INSERT INTO PR_Test VALUES(\"Apto01\", 45, 210.950)')\n",
    "cursor.execute(' INSERT INTO PR_Test VALUES(\"Apto02\", 50, 250.250)')\n",
    "cursor.execute(' INSERT INTO PR_Test VALUES(\"Apto03\", 55, 380.670)')\n",
    "cursor.execute(' INSERT INTO PR_Test VALUES(\"Apto04\", 60, 410.200)')\n",
    "cursor.execute(' INSERT INTO PR_Test VALUES(\"Apto05\", 65, 450.900)')"
   ]
  },
  {
   "cell_type": "code",
   "execution_count": 15,
   "metadata": {},
   "outputs": [
    {
     "name": "stdout",
     "output_type": "stream",
     "text": [
      "('Apto01', 45.0, 210.95)\n",
      "('Apto02', 50.0, 250.25)\n",
      "('Apto03', 55.0, 380.67)\n",
      "('Apto04', 60.0, 410.2)\n",
      "('Apto05', 65.0, 450.9)\n"
     ]
    }
   ],
   "source": [
    "consulta = cursor.execute(\n",
    "    '''\n",
    "        SELECT * FROM PR_Test\n",
    "    '''\n",
    ").fetchall()\n",
    "\n",
    "for linha in consulta:\n",
    "    print(linha)"
   ]
  },
  {
   "cell_type": "code",
   "execution_count": 26,
   "metadata": {},
   "outputs": [],
   "source": [
    "dados = pd.DataFrame(consulta) "
   ]
  },
  {
   "cell_type": "code",
   "execution_count": 27,
   "metadata": {},
   "outputs": [
    {
     "data": {
      "text/html": [
       "<div>\n",
       "<style scoped>\n",
       "    .dataframe tbody tr th:only-of-type {\n",
       "        vertical-align: middle;\n",
       "    }\n",
       "\n",
       "    .dataframe tbody tr th {\n",
       "        vertical-align: top;\n",
       "    }\n",
       "\n",
       "    .dataframe thead th {\n",
       "        text-align: right;\n",
       "    }\n",
       "</style>\n",
       "<table border=\"1\" class=\"dataframe\">\n",
       "  <thead>\n",
       "    <tr style=\"text-align: right;\">\n",
       "      <th></th>\n",
       "      <th>0</th>\n",
       "      <th>1</th>\n",
       "      <th>2</th>\n",
       "    </tr>\n",
       "  </thead>\n",
       "  <tbody>\n",
       "    <tr>\n",
       "      <th>0</th>\n",
       "      <td>Apto01</td>\n",
       "      <td>45.0</td>\n",
       "      <td>210.95</td>\n",
       "    </tr>\n",
       "    <tr>\n",
       "      <th>1</th>\n",
       "      <td>Apto02</td>\n",
       "      <td>50.0</td>\n",
       "      <td>250.25</td>\n",
       "    </tr>\n",
       "    <tr>\n",
       "      <th>2</th>\n",
       "      <td>Apto03</td>\n",
       "      <td>55.0</td>\n",
       "      <td>380.67</td>\n",
       "    </tr>\n",
       "    <tr>\n",
       "      <th>3</th>\n",
       "      <td>Apto04</td>\n",
       "      <td>60.0</td>\n",
       "      <td>410.20</td>\n",
       "    </tr>\n",
       "    <tr>\n",
       "      <th>4</th>\n",
       "      <td>Apto05</td>\n",
       "      <td>65.0</td>\n",
       "      <td>450.90</td>\n",
       "    </tr>\n",
       "  </tbody>\n",
       "</table>\n",
       "</div>"
      ],
      "text/plain": [
       "        0     1       2\n",
       "0  Apto01  45.0  210.95\n",
       "1  Apto02  50.0  250.25\n",
       "2  Apto03  55.0  380.67\n",
       "3  Apto04  60.0  410.20\n",
       "4  Apto05  65.0  450.90"
      ]
     },
     "execution_count": 27,
     "metadata": {},
     "output_type": "execute_result"
    }
   ],
   "source": [
    "dados"
   ]
  },
  {
   "cell_type": "code",
   "execution_count": 28,
   "metadata": {},
   "outputs": [],
   "source": [
    "dados. rename(columns = {0:'Apartamento', 1:'Metragem', 2:'Preco'}, inplace = True)"
   ]
  },
  {
   "cell_type": "markdown",
   "metadata": {},
   "source": [
    "# Achando Valor de a\n",
    "            (M x SUM(Metragem*Preco) - SUM(Metragem) * SUM(Preco) )\n",
    "      a =  ------------------------------------------------------\n",
    "                   M * SUM(Metragem²) - (SUM(Metragem))²"
   ]
  },
  {
   "cell_type": "code",
   "execution_count": 30,
   "metadata": {},
   "outputs": [],
   "source": [
    "M = len(dados.index)\n",
    "Soma_Metragem = dados['Metragem'].sum()\n",
    "SomaPreco = dados['Preco'].sum()\n",
    "\n",
    "dados['Result'] = dados['Metragem'] * dados['Preco']\n",
    "result = dados['Result'].sum()\n",
    "\n"
   ]
  },
  {
   "cell_type": "code",
   "execution_count": 31,
   "metadata": {},
   "outputs": [
    {
     "data": {
      "text/plain": [
       "12.797000000000047"
      ]
     },
     "execution_count": 31,
     "metadata": {},
     "output_type": "execute_result"
    }
   ],
   "source": [
    " Soma_Met_quad = 0\n",
    " \n",
    "for linha in dados.Metragem:\n",
    "    x = (linha*linha)\n",
    "    Soma_Met_quad = Soma_Met_quad + x\n",
    "    \n",
    "\n",
    " a =((M*result) - (Soma_Metragem * SomaPreco )) /(M*Soma_Met_quad - (Soma_Metragem * Soma_Metragem))\n",
    " a\n",
    "\n"
   ]
  },
  {
   "cell_type": "markdown",
   "metadata": {},
   "source": [
    "# Achando Valor de b\n",
    "        b = AVG(Preco) - a*AVG(Metragem)\n",
    "   "
   ]
  },
  {
   "cell_type": "code",
   "execution_count": 32,
   "metadata": {},
   "outputs": [
    {
     "data": {
      "text/plain": [
       "55.0"
      ]
     },
     "execution_count": 32,
     "metadata": {},
     "output_type": "execute_result"
    }
   ],
   "source": [
    "SomaPreco = dados['Preco'].sum()\n",
    "Soma_Metragem = dados['Metragem'].sum()\n",
    "\n",
    "media_Metragem = Soma_Metragem/M\n",
    "media_Preco = SomaPreco/M\n",
    "media_Metragem "
   ]
  },
  {
   "cell_type": "code",
   "execution_count": 33,
   "metadata": {},
   "outputs": [
    {
     "data": {
      "text/plain": [
       "-363.2410000000026"
      ]
     },
     "execution_count": 33,
     "metadata": {},
     "output_type": "execute_result"
    }
   ],
   "source": [
    "b = media_Preco - a*media_Metragem\n",
    "b"
   ]
  },
  {
   "cell_type": "markdown",
   "metadata": {},
   "source": [
    "# Agora vamos calcular a Formula geral da Regressão Linear\n",
    "          Y = (a.x + b)"
   ]
  },
  {
   "cell_type": "code",
   "execution_count": 34,
   "metadata": {},
   "outputs": [
    {
     "data": {
      "text/html": [
       "<div>\n",
       "<style scoped>\n",
       "    .dataframe tbody tr th:only-of-type {\n",
       "        vertical-align: middle;\n",
       "    }\n",
       "\n",
       "    .dataframe tbody tr th {\n",
       "        vertical-align: top;\n",
       "    }\n",
       "\n",
       "    .dataframe thead th {\n",
       "        text-align: right;\n",
       "    }\n",
       "</style>\n",
       "<table border=\"1\" class=\"dataframe\">\n",
       "  <thead>\n",
       "    <tr style=\"text-align: right;\">\n",
       "      <th></th>\n",
       "      <th>Apartamento</th>\n",
       "      <th>Metragem</th>\n",
       "      <th>Preco</th>\n",
       "      <th>Result</th>\n",
       "    </tr>\n",
       "  </thead>\n",
       "  <tbody>\n",
       "    <tr>\n",
       "      <th>0</th>\n",
       "      <td>Apto01</td>\n",
       "      <td>45.0</td>\n",
       "      <td>210.95</td>\n",
       "      <td>9492.75</td>\n",
       "    </tr>\n",
       "    <tr>\n",
       "      <th>1</th>\n",
       "      <td>Apto02</td>\n",
       "      <td>50.0</td>\n",
       "      <td>250.25</td>\n",
       "      <td>12512.50</td>\n",
       "    </tr>\n",
       "    <tr>\n",
       "      <th>2</th>\n",
       "      <td>Apto03</td>\n",
       "      <td>55.0</td>\n",
       "      <td>380.67</td>\n",
       "      <td>20936.85</td>\n",
       "    </tr>\n",
       "    <tr>\n",
       "      <th>3</th>\n",
       "      <td>Apto04</td>\n",
       "      <td>60.0</td>\n",
       "      <td>410.20</td>\n",
       "      <td>24612.00</td>\n",
       "    </tr>\n",
       "    <tr>\n",
       "      <th>4</th>\n",
       "      <td>Apto05</td>\n",
       "      <td>65.0</td>\n",
       "      <td>450.90</td>\n",
       "      <td>29308.50</td>\n",
       "    </tr>\n",
       "  </tbody>\n",
       "</table>\n",
       "</div>"
      ],
      "text/plain": [
       "  Apartamento  Metragem   Preco    Result\n",
       "0      Apto01      45.0  210.95   9492.75\n",
       "1      Apto02      50.0  250.25  12512.50\n",
       "2      Apto03      55.0  380.67  20936.85\n",
       "3      Apto04      60.0  410.20  24612.00\n",
       "4      Apto05      65.0  450.90  29308.50"
      ]
     },
     "execution_count": 34,
     "metadata": {},
     "output_type": "execute_result"
    }
   ],
   "source": [
    "dados"
   ]
  },
  {
   "cell_type": "code",
   "execution_count": 35,
   "metadata": {},
   "outputs": [
    {
     "data": {
      "text/plain": [
       "174.23299999999938"
      ]
     },
     "execution_count": 35,
     "metadata": {},
     "output_type": "execute_result"
    }
   ],
   "source": [
    "Y = (a*42 + b)\n",
    "Y"
   ]
  },
  {
   "cell_type": "code",
   "execution_count": 36,
   "metadata": {},
   "outputs": [],
   "source": [
    "eixo_x = dados.iloc[:,1].values\n",
    "eixo_y = dados.iloc[:,2].values"
   ]
  },
  {
   "cell_type": "code",
   "execution_count": 40,
   "metadata": {},
   "outputs": [
    {
     "data": {
      "image/png": "[encoded data removed]",
      "text/plain": [
       "<Figure size 720x360 with 1 Axes>"
      ]
     },
     "metadata": {
      "needs_background": "light"
     },
     "output_type": "display_data"
    }
   ],
   "source": [
    "plt.figure(figsize=(10,5))\n",
    "plt.scatter(eixo_x, eixo_y);\n",
    "plt.title('Metragem Vs Preço')\n",
    "plt.xlabel(\"Metragem\")\n",
    "plt.ylabel('Preço');"
   ]
  },
  {
   "cell_type": "code",
   "execution_count": 41,
   "metadata": {},
   "outputs": [
    {
     "data": {
      "text/plain": [
       "array([[1.        , 0.96915716],\n",
       "       [0.96915716, 1.        ]])"
      ]
     },
     "execution_count": 41,
     "metadata": {},
     "output_type": "execute_result"
    }
   ],
   "source": [
    "correl = np.corrcoef(eixo_x, eixo_y)\n",
    "correl"
   ]
  },
  {
   "cell_type": "code",
   "execution_count": 42,
   "metadata": {},
   "outputs": [
    {
     "data": {
      "image/png": "[encoded data removed]",
      "text/plain": [
       "<Figure size 720x360 with 2 Axes>"
      ]
     },
     "metadata": {
      "needs_background": "light"
     },
     "output_type": "display_data"
    }
   ],
   "source": [
    "plt.figure(figsize=(10,5))\n",
    "sns.heatmap(correl, annot= True);"
   ]
  },
  {
   "cell_type": "code",
   "execution_count": null,
   "metadata": {},
   "outputs": [],
   "source": []
  }
 ],
 "metadata": {
  "interpreter": {
   "hash": "ad2bdc8ecc057115af97d19610ffacc2b4e99fae6737bb82f5d7fb13d2f2c186"
  },
  "kernelspec": {
   "display_name": "Python 3.7.6 ('base')",
   "language": "python",
   "name": "python3"
  },
  "language_info": {
   "codemirror_mode": {
    "name": "ipython",
    "version": 3
   },
   "file_extension": ".py",
   "mimetype": "text/x-python",
   "name": "python",
   "nbconvert_exporter": "python",
   "pygments_lexer": "ipython3",
   "version": "3.7.6"
  },
  "orig_nbformat": 4
 },
 "nbformat": 4,
 "nbformat_minor": 2
}
